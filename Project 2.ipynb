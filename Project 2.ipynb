{
 "cells": [
  {
   "cell_type": "code",
   "execution_count": 294,
   "metadata": {},
   "outputs": [],
   "source": [
    "import tensorflow as tf\n",
    "from tensorflow import keras\n",
    "import numpy as np\n",
    "import sklearn as sk\n",
    "import pandas as pd\n",
    "import matplotlib.pyplot as plt\n",
    "from os.path import dirname, join as pjoin\n",
    "from scipy import io as sio\n",
    "#from keras.utils.np_utils import to_categorical"
   ]
  },
  {
   "cell_type": "code",
   "execution_count": 295,
   "metadata": {},
   "outputs": [],
   "source": [
    "from tensorflow.keras import layers\n",
    "from tensorflow.keras import models\n",
    "from tensorflow.keras import datasets\n",
    "from tensorflow.keras import optimizers"
   ]
  },
  {
   "cell_type": "markdown",
   "metadata": {},
   "source": [
    "##### This is where the issue is!\n",
    "##### The \"num_classes\" must be 26. NOT 37.\n",
    "##### Although 26 gives an error I cant make sense of."
   ]
  },
  {
   "cell_type": "code",
   "execution_count": 289,
   "metadata": {
    "scrolled": false
   },
   "outputs": [
    {
     "name": "stdout",
     "output_type": "stream",
     "text": [
      "104000 training samples\n",
      "20800 validation samples\n",
      "20800 test samples\n",
      "(20800, 784) (20800, 37)\n"
     ]
    }
   ],
   "source": [
    "#num_classes = 26    THIS IS THE ISSUE!!!!\n",
    "num_classes = 37\n",
    "batch_size = 1024\n",
    "epochs = 50\n",
    "neurons = 2048\n",
    "\n",
    "mat_contents = sio.loadmat('ANN-Handwritten-Char-Recognition-master/matlab/emnist-letters.mat')\n",
    "data = mat_contents['dataset']\n",
    "\n",
    "X_train = data['train'][0,0]['images'][0,0]\n",
    "y_train = data['train'][0,0]['labels'][0,0]\n",
    "X_test = data['test'][0,0]['images'][0,0]\n",
    "y_test = data['test'][0,0]['labels'][0,0]\n",
    "\n",
    "val_start = X_train.shape[0] - X_test.shape[0]\n",
    "X_val = X_train[val_start:X_train.shape[0],:]\n",
    "y_val = y_train[val_start:X_train.shape[0]]\n",
    "X_train = X_train[0:val_start,:]\n",
    "y_train = y_train[0:val_start]\n",
    "\n",
    "#X_train = X_train.reshape( (X_train.shape[0], 28, 28), order='F')\n",
    "\n",
    "#convert class vectors to binary class matrices\n",
    "y_train = keras.utils.to_categorical(y_train, num_classes)\n",
    "y_val = keras.utils.to_categorical(y_val, num_classes)\n",
    "y_test = keras.utils.to_categorical(y_test, num_classes)\n",
    "\n",
    "print(X_train.shape[0], \"training samples\")\n",
    "print(X_val.shape[0], \"validation samples\")\n",
    "print(X_test.shape[0], \"test samples\")\n",
    "print(X_val.shape, y_val.shape)"
   ]
  },
  {
   "cell_type": "code",
   "execution_count": 290,
   "metadata": {},
   "outputs": [
    {
     "name": "stdout",
     "output_type": "stream",
     "text": [
      "Model: \"sequential_41\"\n",
      "_________________________________________________________________\n",
      "Layer (type)                 Output Shape              Param #   \n",
      "=================================================================\n",
      "dense_123 (Dense)            (None, 2048)              1607680   \n",
      "_________________________________________________________________\n",
      "dropout_82 (Dropout)         (None, 2048)              0         \n",
      "_________________________________________________________________\n",
      "dense_124 (Dense)            (None, 2048)              4196352   \n",
      "_________________________________________________________________\n",
      "dropout_83 (Dropout)         (None, 2048)              0         \n",
      "_________________________________________________________________\n",
      "dense_125 (Dense)            (None, 37)                75813     \n",
      "=================================================================\n",
      "Total params: 5,879,845\n",
      "Trainable params: 5,879,845\n",
      "Non-trainable params: 0\n",
      "_________________________________________________________________\n"
     ]
    }
   ],
   "source": [
    "model = tf.keras.Sequential()\n",
    "model.add(layers.Dense(neurons, activation='relu', input_shape=(784,)))\n",
    "model.add(layers.Dropout(0.2))\n",
    "model.add(layers.Dense(neurons, activation='relu'))\n",
    "model.add(layers.Dropout(0.2))\n",
    "model.add(layers.Dense(num_classes, activation='softmax'))\n",
    "\n",
    "model.summary()"
   ]
  },
  {
   "cell_type": "code",
   "execution_count": 291,
   "metadata": {
    "scrolled": false
   },
   "outputs": [
    {
     "name": "stdout",
     "output_type": "stream",
     "text": [
      "Train on 104000 samples, validate on 20800 samples\n",
      "Epoch 1/50\n",
      "104000/104000 [==============================] - 22s 212us/sample - loss: 26.9457 - accuracy: 0.5435 - val_loss: 2.1571 - val_accuracy: 0.6318\n",
      "Epoch 2/50\n",
      "104000/104000 [==============================] - 21s 203us/sample - loss: 1.3189 - accuracy: 0.7114 - val_loss: 0.7219 - val_accuracy: 0.7907\n",
      "Epoch 3/50\n",
      "104000/104000 [==============================] - 21s 203us/sample - loss: 0.7234 - accuracy: 0.7993 - val_loss: 0.5465 - val_accuracy: 0.8405\n",
      "Epoch 4/50\n",
      "104000/104000 [==============================] - 21s 207us/sample - loss: 0.5978 - accuracy: 0.8309 - val_loss: 0.5252 - val_accuracy: 0.8413\n",
      "Epoch 5/50\n",
      "104000/104000 [==============================] - 23s 224us/sample - loss: 0.5333 - accuracy: 0.8482 - val_loss: 0.5155 - val_accuracy: 0.8563\n",
      "Epoch 6/50\n",
      "104000/104000 [==============================] - 25s 238us/sample - loss: 0.4933 - accuracy: 0.8583 - val_loss: 0.4452 - val_accuracy: 0.8695\n",
      "Epoch 7/50\n",
      "104000/104000 [==============================] - 25s 242us/sample - loss: 0.4702 - accuracy: 0.8654 - val_loss: 0.4384 - val_accuracy: 0.8815\n",
      "Epoch 8/50\n",
      "104000/104000 [==============================] - 27s 257us/sample - loss: 0.4482 - accuracy: 0.8729 - val_loss: 0.5458 - val_accuracy: 0.8581\n",
      "Epoch 9/50\n",
      "104000/104000 [==============================] - 27s 264us/sample - loss: 0.4329 - accuracy: 0.8760 - val_loss: 0.4772 - val_accuracy: 0.8762\n",
      "Epoch 10/50\n",
      "104000/104000 [==============================] - 28s 269us/sample - loss: 0.4155 - accuracy: 0.8799 - val_loss: 0.4775 - val_accuracy: 0.8747\n",
      "Epoch 11/50\n",
      "104000/104000 [==============================] - 27s 258us/sample - loss: 0.4042 - accuracy: 0.8850 - val_loss: 0.4758 - val_accuracy: 0.8830\n",
      "Epoch 12/50\n",
      "104000/104000 [==============================] - 27s 261us/sample - loss: 0.3959 - accuracy: 0.8863 - val_loss: 0.4280 - val_accuracy: 0.8932\n",
      "Epoch 13/50\n",
      "104000/104000 [==============================] - 32s 305us/sample - loss: 0.3884 - accuracy: 0.8888 - val_loss: 0.4842 - val_accuracy: 0.8894\n",
      "Epoch 14/50\n",
      "104000/104000 [==============================] - 27s 255us/sample - loss: 0.3938 - accuracy: 0.8891 - val_loss: 0.5276 - val_accuracy: 0.8761\n",
      "Epoch 15/50\n",
      "104000/104000 [==============================] - 26s 246us/sample - loss: 0.3692 - accuracy: 0.8951 - val_loss: 0.4815 - val_accuracy: 0.8885\n",
      "Epoch 16/50\n",
      "104000/104000 [==============================] - 26s 253us/sample - loss: 0.3710 - accuracy: 0.8951 - val_loss: 0.5426 - val_accuracy: 0.8745\n",
      "Epoch 17/50\n",
      "104000/104000 [==============================] - 28s 267us/sample - loss: 0.3662 - accuracy: 0.8975 - val_loss: 0.4986 - val_accuracy: 0.8894\n",
      "Epoch 18/50\n",
      "104000/104000 [==============================] - 27s 258us/sample - loss: 0.3580 - accuracy: 0.8988 - val_loss: 0.5478 - val_accuracy: 0.8992\n",
      "Epoch 19/50\n",
      "104000/104000 [==============================] - 26s 252us/sample - loss: 0.3555 - accuracy: 0.9011 - val_loss: 0.5306 - val_accuracy: 0.8942\n",
      "Epoch 20/50\n",
      "104000/104000 [==============================] - 26s 254us/sample - loss: 0.3500 - accuracy: 0.9027 - val_loss: 0.5903 - val_accuracy: 0.8937\n",
      "Epoch 21/50\n",
      "104000/104000 [==============================] - 26s 251us/sample - loss: 0.3565 - accuracy: 0.9022 - val_loss: 0.5875 - val_accuracy: 0.9015\n",
      "Epoch 22/50\n",
      "104000/104000 [==============================] - 26s 252us/sample - loss: 0.3489 - accuracy: 0.9042 - val_loss: 0.5875 - val_accuracy: 0.8954\n",
      "Epoch 23/50\n",
      "104000/104000 [==============================] - 27s 264us/sample - loss: 0.3447 - accuracy: 0.9040 - val_loss: 0.5847 - val_accuracy: 0.8970\n",
      "Epoch 24/50\n",
      "104000/104000 [==============================] - 25s 241us/sample - loss: 0.3354 - accuracy: 0.9066 - val_loss: 0.5999 - val_accuracy: 0.8877\n",
      "Epoch 25/50\n",
      "104000/104000 [==============================] - 24s 233us/sample - loss: 0.3370 - accuracy: 0.9081 - val_loss: 0.6490 - val_accuracy: 0.8965\n",
      "Epoch 26/50\n",
      "104000/104000 [==============================] - 23s 217us/sample - loss: 0.3432 - accuracy: 0.9065 - val_loss: 0.7164 - val_accuracy: 0.9052\n",
      "Epoch 27/50\n",
      "104000/104000 [==============================] - 22s 211us/sample - loss: 0.3336 - accuracy: 0.9085 - val_loss: 0.6825 - val_accuracy: 0.8927\n",
      "Epoch 28/50\n",
      "104000/104000 [==============================] - 22s 213us/sample - loss: 0.3327 - accuracy: 0.9091 - val_loss: 0.6580 - val_accuracy: 0.9062\n",
      "Epoch 29/50\n",
      "104000/104000 [==============================] - 21s 204us/sample - loss: 0.3280 - accuracy: 0.9099 - val_loss: 0.6557 - val_accuracy: 0.9040\n",
      "Epoch 30/50\n",
      "104000/104000 [==============================] - 23s 222us/sample - loss: 0.3320 - accuracy: 0.9101 - val_loss: 0.7077 - val_accuracy: 0.9025\n",
      "Epoch 31/50\n",
      "104000/104000 [==============================] - 22s 216us/sample - loss: 0.3321 - accuracy: 0.9103 - val_loss: 0.6230 - val_accuracy: 0.9000\n",
      "Epoch 32/50\n",
      "104000/104000 [==============================] - 23s 220us/sample - loss: 0.3303 - accuracy: 0.9106 - val_loss: 0.6971 - val_accuracy: 0.8954\n",
      "Epoch 33/50\n",
      "104000/104000 [==============================] - 22s 208us/sample - loss: 0.3256 - accuracy: 0.9118 - val_loss: 0.7797 - val_accuracy: 0.8878\n",
      "Epoch 34/50\n",
      "104000/104000 [==============================] - 22s 214us/sample - loss: 0.3250 - accuracy: 0.9136 - val_loss: 0.7186 - val_accuracy: 0.9046\n",
      "Epoch 35/50\n",
      "104000/104000 [==============================] - 24s 230us/sample - loss: 0.3295 - accuracy: 0.9128 - val_loss: 0.7543 - val_accuracy: 0.8977\n",
      "Epoch 36/50\n",
      "104000/104000 [==============================] - 22s 215us/sample - loss: 0.3224 - accuracy: 0.9137 - val_loss: 0.7623 - val_accuracy: 0.8955\n",
      "Epoch 37/50\n",
      "104000/104000 [==============================] - 24s 226us/sample - loss: 0.3177 - accuracy: 0.9141 - val_loss: 0.8258 - val_accuracy: 0.9038\n",
      "Epoch 38/50\n",
      "104000/104000 [==============================] - 23s 224us/sample - loss: 0.3278 - accuracy: 0.9130 - val_loss: 0.8207 - val_accuracy: 0.8977\n",
      "Epoch 39/50\n",
      "104000/104000 [==============================] - 24s 230us/sample - loss: 0.3220 - accuracy: 0.9148 - val_loss: 0.9257 - val_accuracy: 0.9036\n",
      "Epoch 40/50\n",
      "104000/104000 [==============================] - 23s 225us/sample - loss: 0.3225 - accuracy: 0.9153 - val_loss: 0.7972 - val_accuracy: 0.9001\n",
      "Epoch 41/50\n",
      "104000/104000 [==============================] - 25s 239us/sample - loss: 0.3143 - accuracy: 0.9153 - val_loss: 0.8792 - val_accuracy: 0.8978\n",
      "Epoch 42/50\n",
      "104000/104000 [==============================] - 27s 261us/sample - loss: 0.3242 - accuracy: 0.9146 - val_loss: 0.8700 - val_accuracy: 0.9052\n",
      "Epoch 43/50\n",
      "104000/104000 [==============================] - 25s 238us/sample - loss: 0.3271 - accuracy: 0.9162 - val_loss: 0.9138 - val_accuracy: 0.9032\n",
      "Epoch 44/50\n",
      "104000/104000 [==============================] - 25s 241us/sample - loss: 0.3188 - accuracy: 0.9162 - val_loss: 0.9415 - val_accuracy: 0.9022\n",
      "Epoch 45/50\n",
      "104000/104000 [==============================] - 24s 233us/sample - loss: 0.3181 - accuracy: 0.9168 - val_loss: 0.9057 - val_accuracy: 0.8933\n",
      "Epoch 46/50\n",
      "104000/104000 [==============================] - 26s 246us/sample - loss: 0.3164 - accuracy: 0.9167 - val_loss: 0.9334 - val_accuracy: 0.9039\n",
      "Epoch 47/50\n",
      "104000/104000 [==============================] - 25s 242us/sample - loss: 0.3149 - accuracy: 0.9179 - val_loss: 0.9088 - val_accuracy: 0.8961\n",
      "Epoch 48/50\n",
      "104000/104000 [==============================] - 25s 239us/sample - loss: 0.3168 - accuracy: 0.9177 - val_loss: 0.9030 - val_accuracy: 0.8988\n",
      "Epoch 49/50\n",
      "104000/104000 [==============================] - 24s 233us/sample - loss: 0.3242 - accuracy: 0.9178 - val_loss: 0.9149 - val_accuracy: 0.8958\n",
      "Epoch 50/50\n",
      "104000/104000 [==============================] - 23s 224us/sample - loss: 0.3248 - accuracy: 0.9181 - val_loss: 0.9964 - val_accuracy: 0.9002\n"
     ]
    }
   ],
   "source": [
    "model.compile(loss='categorical_crossentropy',\n",
    "              optimizer=optimizers.RMSprop(),\n",
    "              metrics=['accuracy'])\n",
    "\n",
    "history = model.fit(X_train, y_train,\n",
    "                    batch_size = batch_size,\n",
    "                    epochs = epochs,\n",
    "                    verbose = 1,\n",
    "                    validation_data = (X_val, y_val))"
   ]
  },
  {
   "cell_type": "code",
   "execution_count": 292,
   "metadata": {},
   "outputs": [
    {
     "name": "stdout",
     "output_type": "stream",
     "text": [
      "Test loss: 0.9450591341834786\n",
      "Test accuracy: 0.900625\n"
     ]
    }
   ],
   "source": [
    "score = model.evaluate(X_test, y_test, verbose=0)\n",
    "print('Test loss:', score[0])\n",
    "print('Test accuracy:', score[1])"
   ]
  },
  {
   "cell_type": "markdown",
   "metadata": {},
   "source": [
    "### num_classes = 28\n",
    "### first Layer = 512, second layer = 512\n",
    "#####             5  epochs, 128  batch size - 61.13%\n",
    "#####             5  epochs,  64  batch size - 60.20%\n",
    "#####             5  epochs, 128  batch size - 80.91%\n",
    "#####             10 epochs, 128  batch size - 66.65%\n",
    "#####             15 epochs, 128  batch size - 63.86%\n",
    "#####             7  epochs, 128  batch size - 78.78%\n",
    "#####             7  epochs, 256  batch size - 83.56%\n",
    "#####             15 epochs, 256  batch size - 82.96%\n",
    "#####             10 epochs, 256  batch size - 84.33%\n",
    "#####             15 epochs, 512  batch size - 86.56%\n",
    "#####             20 epochs, 512  batch size - 87.17%\n",
    "#####             20 epochs, 1024 batch size - 88.74%\n",
    "#####             50 epochs, 1024 batch size - 89.59%\n",
    "#####             50 epochs, 2048 batch size - 89.97%\n",
    "#####             100epochs, 4098 batch size - 90.44%\n",
    "            \n",
    "### num_classes = 37\n",
    "### first Layer = 512, second layer = 512\n",
    "#####             50 epochs, 4098 batch size - 90.28%\n",
    "#####             50 epochs, 2048 batch size - 90.48%\n",
    "#####             100epochs, 2048 batch size - 90.50%\n",
    "#####             100epochs, 1024 batch size - 89.50%                        \n",
    "\n",
    "### first Layer = 1024, second layer = 1024\n",
    "#####             50 epochs, 1024 batch size - 89.14%\n",
    "#####             50 epochs, 2048 batch size - 91.14%\n",
    "#####             50 epochs, 4096 batch size - 90.39%\n",
    "            \n",
    "### first Layer = 2048, second layer = 2048\n",
    "#####             50 epochs, 1024 batch size - 90.06%\n",
    "#####             50 epochs, 2048 batch size - 90.24%\n",
    "#####             50 epochs, 4096 batch size - 90.78%\n",
    "            \n",
    "            "
   ]
  },
  {
   "cell_type": "code",
   "execution_count": null,
   "metadata": {},
   "outputs": [],
   "source": []
  },
  {
   "cell_type": "code",
   "execution_count": null,
   "metadata": {},
   "outputs": [],
   "source": []
  }
 ],
 "metadata": {
  "kernelspec": {
   "display_name": "Python 3",
   "language": "python",
   "name": "python3"
  },
  "language_info": {
   "codemirror_mode": {
    "name": "ipython",
    "version": 3
   },
   "file_extension": ".py",
   "mimetype": "text/x-python",
   "name": "python",
   "nbconvert_exporter": "python",
   "pygments_lexer": "ipython3",
   "version": "3.7.4"
  }
 },
 "nbformat": 4,
 "nbformat_minor": 2
}
