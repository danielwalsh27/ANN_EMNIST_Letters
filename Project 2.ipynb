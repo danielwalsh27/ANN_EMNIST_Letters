{
 "cells": [
  {
   "cell_type": "code",
   "execution_count": 4,
   "metadata": {},
   "outputs": [],
   "source": [
    "import tensorflow as tf\n",
    "from tensorflow import keras\n",
    "import numpy as np\n",
    "import sklearn as sk\n",
    "import pandas as pd\n",
    "import matplotlib.pyplot as plt\n",
    "from os.path import dirname, join as pjoin\n",
    "from scipy import io as sio\n",
    "#from keras.utils.np_utils import to_categorical"
   ]
  },
  {
   "cell_type": "code",
   "execution_count": 5,
   "metadata": {},
   "outputs": [],
   "source": [
    "from tensorflow.keras import layers\n",
    "from tensorflow.keras import models\n",
    "from tensorflow.keras import datasets\n",
    "from tensorflow.keras import optimizers"
   ]
  },
  {
   "cell_type": "markdown",
   "metadata": {},
   "source": [
    "##### This is where the issue is!\n",
    "##### The \"num_classes\" must be 26. NOT 37.\n",
    "##### Although 26 gives an error I cant make sense of."
   ]
  },
  {
   "cell_type": "code",
   "execution_count": 13,
   "metadata": {
    "scrolled": false
   },
   "outputs": [
    {
     "name": "stdout",
     "output_type": "stream",
     "text": [
      "104000 training samples\n",
      "20800 validation samples\n",
      "20800 test samples\n",
      "(20800, 784) (20800, 26)\n"
     ]
    }
   ],
   "source": [
    "#num_classes = 26    THIS IS THE ISSUE!!!!\n",
    "num_classes = 26\n",
    "batch_size = 1000\n",
    "epochs = 20\n",
    "neurons = 800\n",
    "\n",
    "mat_contents = sio.loadmat('ANN-Handwritten-Char-Recognition-master/matlab/emnist-letters.mat')\n",
    "data = mat_contents['dataset']\n",
    "\n",
    "X_train = data['train'][0,0]['images'][0,0]\n",
    "y_train = data['train'][0,0]['labels'][0,0]\n",
    "X_test = data['test'][0,0]['images'][0,0]\n",
    "y_test = data['test'][0,0]['labels'][0,0]\n",
    "\n",
    "val_start = X_train.shape[0] - X_test.shape[0]\n",
    "X_val = X_train[val_start:X_train.shape[0],:]\n",
    "y_val = y_train[val_start:X_train.shape[0]]\n",
    "X_train = X_train[0:val_start,:]\n",
    "y_train = y_train[0:val_start]\n",
    "\n",
    "#X_train = X_train.reshape( (X_train.shape[0], 28, 28), order='F')\n",
    "\n",
    "y_train -=1\n",
    "y_val -=1\n",
    "y_test -=1\n",
    "\n",
    "#convert class vectors to binary class matrices\n",
    "y_train = keras.utils.to_categorical(y_train, num_classes)\n",
    "y_val = keras.utils.to_categorical(y_val, num_classes)\n",
    "y_test = keras.utils.to_categorical(y_test, num_classes)\n",
    "\n",
    "print(X_train.shape[0], \"training samples\")\n",
    "print(X_val.shape[0], \"validation samples\")\n",
    "print(X_test.shape[0], \"test samples\")\n",
    "print(X_val.shape, y_val.shape)"
   ]
  },
  {
   "cell_type": "code",
   "execution_count": 14,
   "metadata": {},
   "outputs": [
    {
     "name": "stdout",
     "output_type": "stream",
     "text": [
      "Model: \"sequential_1\"\n",
      "_________________________________________________________________\n",
      "Layer (type)                 Output Shape              Param #   \n",
      "=================================================================\n",
      "dense_3 (Dense)              (None, 800)               628000    \n",
      "_________________________________________________________________\n",
      "dropout_2 (Dropout)          (None, 800)               0         \n",
      "_________________________________________________________________\n",
      "dense_4 (Dense)              (None, 800)               640800    \n",
      "_________________________________________________________________\n",
      "dropout_3 (Dropout)          (None, 800)               0         \n",
      "_________________________________________________________________\n",
      "dense_5 (Dense)              (None, 26)                20826     \n",
      "=================================================================\n",
      "Total params: 1,289,626\n",
      "Trainable params: 1,289,626\n",
      "Non-trainable params: 0\n",
      "_________________________________________________________________\n"
     ]
    }
   ],
   "source": [
    "model = tf.keras.Sequential()\n",
    "model.add(layers.Dense(neurons, activation='relu', input_shape=(784,)))\n",
    "model.add(layers.Dropout(0.2))\n",
    "model.add(layers.Dense(neurons, activation='relu'))\n",
    "model.add(layers.Dropout(0.2))\n",
    "model.add(layers.Dense(num_classes, activation='softmax'))\n",
    "\n",
    "model.summary()"
   ]
  },
  {
   "cell_type": "code",
   "execution_count": 15,
   "metadata": {
    "scrolled": false
   },
   "outputs": [
    {
     "name": "stdout",
     "output_type": "stream",
     "text": [
      "Train on 104000 samples, validate on 20800 samples\n",
      "Epoch 1/20\n",
      "104000/104000 [==============================] - 4s 36us/sample - loss: 17.8366 - accuracy: 0.5146 - val_loss: 1.3375 - val_accuracy: 0.6907\n",
      "Epoch 2/20\n",
      "104000/104000 [==============================] - 4s 36us/sample - loss: 1.3612 - accuracy: 0.6827 - val_loss: 0.8141 - val_accuracy: 0.7700\n",
      "Epoch 3/20\n",
      "104000/104000 [==============================] - 4s 38us/sample - loss: 0.8766 - accuracy: 0.7677 - val_loss: 0.5781 - val_accuracy: 0.8312\n",
      "Epoch 4/20\n",
      "104000/104000 [==============================] - 5s 48us/sample - loss: 0.6905 - accuracy: 0.8052 - val_loss: 0.5067 - val_accuracy: 0.8488\n",
      "Epoch 5/20\n",
      "104000/104000 [==============================] - 4s 40us/sample - loss: 0.6020 - accuracy: 0.8264 - val_loss: 0.4697 - val_accuracy: 0.8616\n",
      "Epoch 6/20\n",
      "104000/104000 [==============================] - 4s 38us/sample - loss: 0.5369 - accuracy: 0.8416 - val_loss: 0.4488 - val_accuracy: 0.8698\n",
      "Epoch 7/20\n",
      "104000/104000 [==============================] - 4s 41us/sample - loss: 0.5070 - accuracy: 0.8496 - val_loss: 0.4363 - val_accuracy: 0.8711\n",
      "Epoch 8/20\n",
      "104000/104000 [==============================] - 4s 43us/sample - loss: 0.4815 - accuracy: 0.8578 - val_loss: 0.4371 - val_accuracy: 0.8780\n",
      "Epoch 9/20\n",
      "104000/104000 [==============================] - 5s 45us/sample - loss: 0.4539 - accuracy: 0.8654 - val_loss: 0.4412 - val_accuracy: 0.8792\n",
      "Epoch 10/20\n",
      "104000/104000 [==============================] - 4s 43us/sample - loss: 0.4404 - accuracy: 0.8680 - val_loss: 0.4272 - val_accuracy: 0.8848\n",
      "Epoch 11/20\n",
      "104000/104000 [==============================] - 4s 43us/sample - loss: 0.4219 - accuracy: 0.8752 - val_loss: 0.4073 - val_accuracy: 0.8913\n",
      "Epoch 12/20\n",
      "104000/104000 [==============================] - 5s 49us/sample - loss: 0.4151 - accuracy: 0.8763 - val_loss: 0.3997 - val_accuracy: 0.8913\n",
      "Epoch 13/20\n",
      "104000/104000 [==============================] - 5s 46us/sample - loss: 0.4091 - accuracy: 0.8786 - val_loss: 0.4308 - val_accuracy: 0.8944\n",
      "Epoch 14/20\n",
      "104000/104000 [==============================] - 5s 48us/sample - loss: 0.3989 - accuracy: 0.8813 - val_loss: 0.4129 - val_accuracy: 0.8914\n",
      "Epoch 15/20\n",
      "104000/104000 [==============================] - 5s 44us/sample - loss: 0.3878 - accuracy: 0.8854 - val_loss: 0.4266 - val_accuracy: 0.8857\n",
      "Epoch 16/20\n",
      "104000/104000 [==============================] - 5s 48us/sample - loss: 0.3851 - accuracy: 0.8861 - val_loss: 0.4270 - val_accuracy: 0.8904\n",
      "Epoch 17/20\n",
      "104000/104000 [==============================] - 5s 48us/sample - loss: 0.3844 - accuracy: 0.8865 - val_loss: 0.4591 - val_accuracy: 0.8857\n",
      "Epoch 18/20\n",
      "104000/104000 [==============================] - 5s 46us/sample - loss: 0.3763 - accuracy: 0.8890 - val_loss: 0.4312 - val_accuracy: 0.8971\n",
      "Epoch 19/20\n",
      "104000/104000 [==============================] - 5s 44us/sample - loss: 0.3706 - accuracy: 0.8914 - val_loss: 0.4509 - val_accuracy: 0.8981\n",
      "Epoch 20/20\n",
      "104000/104000 [==============================] - 5s 45us/sample - loss: 0.3667 - accuracy: 0.8914 - val_loss: 0.4745 - val_accuracy: 0.8998\n"
     ]
    }
   ],
   "source": [
    "model.compile(loss='categorical_crossentropy',\n",
    "              optimizer=optimizers.RMSprop(),\n",
    "              metrics=['accuracy'])\n",
    "\n",
    "history = model.fit(X_train, y_train,\n",
    "                    batch_size = batch_size,\n",
    "                    epochs = epochs,\n",
    "                    verbose = 1,\n",
    "                    validation_data = (X_val, y_val))"
   ]
  },
  {
   "cell_type": "code",
   "execution_count": 16,
   "metadata": {},
   "outputs": [
    {
     "name": "stdout",
     "output_type": "stream",
     "text": [
      "Test loss: 0.47535962739865334\n",
      "Test accuracy: 0.8960096\n"
     ]
    }
   ],
   "source": [
    "score = model.evaluate(X_test, y_test, verbose=0)\n",
    "print('Test loss:', score[0])\n",
    "print('Test accuracy:', score[1])"
   ]
  },
  {
   "cell_type": "markdown",
   "metadata": {},
   "source": [
    "# ignore for now"
   ]
  },
  {
   "cell_type": "markdown",
   "metadata": {},
   "source": [
    "### num_classes = 28\n",
    "### first Layer = 512, second layer = 512\n",
    "#####             5  epochs, 128  batch size - 61.13%\n",
    "#####             5  epochs,  64  batch size - 60.20%\n",
    "#####             5  epochs, 128  batch size - 80.91%\n",
    "#####             10 epochs, 128  batch size - 66.65%\n",
    "#####             15 epochs, 128  batch size - 63.86%\n",
    "#####             7  epochs, 128  batch size - 78.78%\n",
    "#####             7  epochs, 256  batch size - 83.56%\n",
    "#####             15 epochs, 256  batch size - 82.96%\n",
    "#####             10 epochs, 256  batch size - 84.33%\n",
    "#####             15 epochs, 512  batch size - 86.56%\n",
    "#####             20 epochs, 512  batch size - 87.17%\n",
    "#####             20 epochs, 1024 batch size - 88.74%\n",
    "#####             50 epochs, 1024 batch size - 89.59%\n",
    "#####             50 epochs, 2048 batch size - 89.97%\n",
    "#####             100epochs, 4098 batch size - 90.44%\n",
    "            \n",
    "### num_classes = 37\n",
    "### first Layer = 512, second layer = 512\n",
    "#####             50 epochs, 4098 batch size - 90.28%\n",
    "#####             50 epochs, 2048 batch size - 90.48%\n",
    "#####             100epochs, 2048 batch size - 90.50%\n",
    "#####             100epochs, 1024 batch size - 89.50%                        \n",
    "\n",
    "### first Layer = 1024, second layer = 1024\n",
    "#####             50 epochs, 1024 batch size - 89.14%\n",
    "#####             50 epochs, 2048 batch size - 91.14%\n",
    "#####             50 epochs, 4096 batch size - 90.39%\n",
    "            \n",
    "### first Layer = 2048, second layer = 2048\n",
    "#####             50 epochs, 1024 batch size - 90.06%\n",
    "#####             50 epochs, 2048 batch size - 90.24%\n",
    "#####             50 epochs, 4096 batch size - 90.78%\n",
    "            \n",
    "            "
   ]
  },
  {
   "cell_type": "code",
   "execution_count": null,
   "metadata": {},
   "outputs": [],
   "source": []
  }
 ],
 "metadata": {
  "kernelspec": {
   "display_name": "Python 3",
   "language": "python",
   "name": "python3"
  },
  "language_info": {
   "codemirror_mode": {
    "name": "ipython",
    "version": 3
   },
   "file_extension": ".py",
   "mimetype": "text/x-python",
   "name": "python",
   "nbconvert_exporter": "python",
   "pygments_lexer": "ipython3",
   "version": "3.7.4"
  }
 },
 "nbformat": 4,
 "nbformat_minor": 2
}
